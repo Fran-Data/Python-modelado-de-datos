{
  "nbformat": 4,
  "nbformat_minor": 0,
  "metadata": {
    "colab": {
      "provenance": [],
      "include_colab_link": true
    },
    "kernelspec": {
      "name": "python3",
      "display_name": "Python 3"
    },
    "language_info": {
      "name": "python"
    }
  },
  "cells": [
    {
      "cell_type": "markdown",
      "metadata": {
        "id": "view-in-github",
        "colab_type": "text"
      },
      "source": [
        "<a href=\"https://colab.research.google.com/github/Fran-Data/Python-modelado-de-datos/blob/main/Python_Data_Science.ipynb\" target=\"_parent\"><img src=\"https://colab.research.google.com/assets/colab-badge.svg\" alt=\"Open In Colab\"/></a>"
      ]
    },
    {
      "cell_type": "markdown",
      "source": [
        "# Python para Data Science\n",
        "\n",
        "Notebook para el curso de Python para Data Science publicado en la plataforma de [Alura Latam](https://www.aluracursos.com/)"
      ],
      "metadata": {
        "id": "lQx6Mmv0OJyT"
      }
    },
    {
      "cell_type": "markdown",
      "source": [
        "# Introducción a Python\n",
        "¡Vamos a conocer Python, nuestro ambiente de estudio, y también generaremos nuestro primer código en este lenguaje!"
      ],
      "metadata": {
        "id": "7SiB6JIpYKmY"
      }
    },
    {
      "cell_type": "markdown",
      "source": [
        "## Google Colaboratory\n",
        "\n",
        "Ya aprendimos qué es [Python](https://www.python.org/) y ahora aprenderemos a usar nuestra herramienta de ejecución [Google Colaboratory](https://colab.research.google.com/) para programar en un notebook interactivo.\n",
        "\n",
        "Vamos a probar algunas funciones de este ambiente."
      ],
      "metadata": {
        "id": "Yugfb3fCOYY9"
      }
    },
    {
      "cell_type": "markdown",
      "source": [
        " **`>>> Usa esta celda para mover <<<`**"
      ],
      "metadata": {
        "id": "2iUHQsJasJAk"
      }
    },
    {
      "cell_type": "code",
      "source": [],
      "metadata": {
        "id": "o7jrX_iKhdkU"
      },
      "execution_count": null,
      "outputs": []
    },
    {
      "cell_type": "markdown",
      "source": [
        "## ¡Hola mundo!\n",
        "\n",
        "Vamos a conocer un poco más de cerca nuestro notebook. Para ello ejecutaremos nuestro primer comando en Python: [`print()`](https://docs.python.org/3/library/functions.html#print)"
      ],
      "metadata": {
        "id": "aLSFP2V7XTfe"
      }
    },
    {
      "cell_type": "code",
      "source": [
        "print('!hola mundo!')"
      ],
      "metadata": {
        "id": "0qZX8_ZQBYyk",
        "colab": {
          "base_uri": "https://localhost:8080/"
        },
        "outputId": "eed8c193-d59e-4998-c7b1-c1f8d91b26ef"
      },
      "execution_count": 7,
      "outputs": [
        {
          "output_type": "stream",
          "name": "stdout",
          "text": [
            "!hola mundo!\n"
          ]
        }
      ]
    },
    {
      "cell_type": "code",
      "source": [
        "15"
      ],
      "metadata": {
        "id": "GLMzF_AKBY7a",
        "colab": {
          "base_uri": "https://localhost:8080/"
        },
        "outputId": "3b9752aa-9eaf-482d-c249-c5fe2329add2"
      },
      "execution_count": 8,
      "outputs": [
        {
          "output_type": "execute_result",
          "data": {
            "text/plain": [
              "15"
            ]
          },
          "metadata": {},
          "execution_count": 8
        }
      ]
    },
    {
      "cell_type": "code",
      "source": [
        "print('probando google colab para python enfocado en ciencia de datos')"
      ],
      "metadata": {
        "colab": {
          "base_uri": "https://localhost:8080/"
        },
        "id": "ayf3zvnfwR7V",
        "outputId": "2125b1b5-11e5-48d8-e351-0d88d6133f7b"
      },
      "execution_count": 9,
      "outputs": [
        {
          "output_type": "stream",
          "name": "stdout",
          "text": [
            "probando google colab para python enfocado en ciencia de datos\n"
          ]
        }
      ]
    },
    {
      "cell_type": "code",
      "source": [
        "print('Escuela de datos Alura')"
      ],
      "metadata": {
        "colab": {
          "base_uri": "https://localhost:8080/"
        },
        "id": "_nw9kdtdwruG",
        "outputId": "1b45e358-762a-4c67-bd40-452a53422739"
      },
      "execution_count": 10,
      "outputs": [
        {
          "output_type": "stream",
          "name": "stdout",
          "text": [
            "Escuela de datos Alura\n"
          ]
        }
      ]
    },
    {
      "cell_type": "code",
      "source": [
        " print('Nombre: Francisco')\n",
        " print('Apellido: Rivera')"
      ],
      "metadata": {
        "colab": {
          "base_uri": "https://localhost:8080/"
        },
        "id": "vIpgFAdPw5TM",
        "outputId": "49fb44c9-ee2e-4c41-d251-022d3e8ad34a"
      },
      "execution_count": 11,
      "outputs": [
        {
          "output_type": "stream",
          "name": "stdout",
          "text": [
            "Nombre: Francisco\n",
            "Apellido: Rivera\n"
          ]
        }
      ]
    },
    {
      "cell_type": "code",
      "source": [
        "print('F')\n",
        "print('R')\n",
        "print('A')\n",
        "print('N')\n",
        "print('C')\n",
        "print('I')\n",
        "print('S')\n",
        "print('C')\n",
        "print('O')"
      ],
      "metadata": {
        "colab": {
          "base_uri": "https://localhost:8080/"
        },
        "id": "_YNPYFYzyLrU",
        "outputId": "94b958f7-69b0-4308-d4f1-dbb7c53fc192"
      },
      "execution_count": 12,
      "outputs": [
        {
          "output_type": "stream",
          "name": "stdout",
          "text": [
            "F\n",
            "R\n",
            "A\n",
            "N\n",
            "C\n",
            "I\n",
            "S\n",
            "C\n",
            "O\n"
          ]
        }
      ]
    },
    {
      "cell_type": "code",
      "source": [
        "print(1,'enero', 2025)"
      ],
      "metadata": {
        "colab": {
          "base_uri": "https://localhost:8080/"
        },
        "id": "CTKnNiViyzEV",
        "outputId": "6c317303-e546-49c4-a8cc-0827827f7d40"
      },
      "execution_count": 13,
      "outputs": [
        {
          "output_type": "stream",
          "name": "stdout",
          "text": [
            "1 enero 2025\n"
          ]
        }
      ]
    },
    {
      "cell_type": "markdown",
      "source": [
        "# Manipulando los datos\n",
        "\n",
        "Vamos a aprender sobre las variables en Python, cómo declararlas y utilizarlas además de conocer otros comandos de este lenguaje. :D"
      ],
      "metadata": {
        "id": "iP8uWQmFYFRs"
      }
    },
    {
      "cell_type": "markdown",
      "source": [
        "## Variables\n",
        "\n",
        "En Data Science trabajamos con varios tipos de datos e informaciones, entonces es esencial saber cómo trabajar con las variables."
      ],
      "metadata": {
        "id": "sLNVmnTbag1Z"
      }
    },
    {
      "cell_type": "markdown",
      "source": [
        "Las variables en Python se crean cuando atribuimos un valor a ella.\n",
        "\n",
        "Para esto, colocamos el nombre de la variable, el signo de igual (`=`) y el valor que queremos atribuirle."
      ],
      "metadata": {
        "id": "lsCY0wahAbf6"
      }
    },
    {
      "cell_type": "code",
      "source": [
        "5"
      ],
      "metadata": {
        "id": "vsHh5buZADND",
        "colab": {
          "base_uri": "https://localhost:8080/"
        },
        "outputId": "717297dc-20d4-4fd5-97c3-598d2dc4e9f8"
      },
      "execution_count": 14,
      "outputs": [
        {
          "output_type": "execute_result",
          "data": {
            "text/plain": [
              "5"
            ]
          },
          "metadata": {},
          "execution_count": 14
        }
      ]
    },
    {
      "cell_type": "code",
      "source": [
        "id(5)"
      ],
      "metadata": {
        "id": "sivPtqSjADQV",
        "colab": {
          "base_uri": "https://localhost:8080/"
        },
        "outputId": "c206d93c-8e95-4089-b76b-ec4c276f8d39"
      },
      "execution_count": 15,
      "outputs": [
        {
          "output_type": "execute_result",
          "data": {
            "text/plain": [
              "10757864"
            ]
          },
          "metadata": {},
          "execution_count": 15
        }
      ]
    },
    {
      "cell_type": "code",
      "source": [
        "edad = 5\n"
      ],
      "metadata": {
        "id": "JC8jO47wADlm"
      },
      "execution_count": 16,
      "outputs": []
    },
    {
      "cell_type": "code",
      "source": [
        "id(edad)\n",
        "id(5)"
      ],
      "metadata": {
        "colab": {
          "base_uri": "https://localhost:8080/"
        },
        "id": "f_Fc3Z2J0oZ1",
        "outputId": "f8d1e725-2ae7-42a1-e3e6-2f38c5c8b686"
      },
      "execution_count": 17,
      "outputs": [
        {
          "output_type": "execute_result",
          "data": {
            "text/plain": [
              "10757864"
            ]
          },
          "metadata": {},
          "execution_count": 17
        }
      ]
    },
    {
      "cell_type": "code",
      "source": [
        "numerocinco = 5"
      ],
      "metadata": {
        "id": "ZiCao87R0oLL"
      },
      "execution_count": 18,
      "outputs": []
    },
    {
      "cell_type": "code",
      "source": [
        "id(numerocinco)"
      ],
      "metadata": {
        "colab": {
          "base_uri": "https://localhost:8080/"
        },
        "id": "z3QXjZQb0n1U",
        "outputId": "0ad7c87d-a317-446a-dbd4-5a1ed7f0b9e7"
      },
      "execution_count": 19,
      "outputs": [
        {
          "output_type": "execute_result",
          "data": {
            "text/plain": [
              "10757864"
            ]
          },
          "metadata": {},
          "execution_count": 19
        }
      ]
    },
    {
      "cell_type": "code",
      "source": [
        "nombre = 'fran'"
      ],
      "metadata": {
        "id": "1ROi239x1Bpb"
      },
      "execution_count": 20,
      "outputs": []
    },
    {
      "cell_type": "code",
      "source": [
        "id('fran')"
      ],
      "metadata": {
        "colab": {
          "base_uri": "https://localhost:8080/"
        },
        "id": "XXmw7I821Eiu",
        "outputId": "81f53995-ff13-47f9-90c4-3fad57da3308"
      },
      "execution_count": 21,
      "outputs": [
        {
          "output_type": "execute_result",
          "data": {
            "text/plain": [
              "139956342152688"
            ]
          },
          "metadata": {},
          "execution_count": 21
        }
      ]
    },
    {
      "cell_type": "code",
      "source": [
        "id(nombre)"
      ],
      "metadata": {
        "colab": {
          "base_uri": "https://localhost:8080/"
        },
        "id": "TPXf_-li1CuN",
        "outputId": "e18a136e-8641-4b03-8787-510db0e8759f"
      },
      "execution_count": 23,
      "outputs": [
        {
          "output_type": "execute_result",
          "data": {
            "text/plain": [
              "139956342152688"
            ]
          },
          "metadata": {},
          "execution_count": 23
        }
      ]
    },
    {
      "cell_type": "code",
      "source": [
        "# Este es un comentario de una línea\n",
        "print(10) # Podemos colocar otro comentario en una línea después de un código"
      ],
      "metadata": {
        "colab": {
          "base_uri": "https://localhost:8080/"
        },
        "id": "1sbbU6ON1BhV",
        "outputId": "6e3755ed-b3f5-42bc-d9c0-294b9d6e0d21"
      },
      "execution_count": 22,
      "outputs": [
        {
          "output_type": "stream",
          "name": "stdout",
          "text": [
            "10\n"
          ]
        }
      ]
    },
    {
      "cell_type": "code",
      "source": [
        "'''\n",
        "Este es un comentario\n",
        "de varias líneas.\n",
        "'''"
      ],
      "metadata": {
        "colab": {
          "base_uri": "https://localhost:8080/",
          "height": 35
        },
        "id": "9NdMuT1Q1BZL",
        "outputId": "b80ba4c9-f84d-46b5-d3c2-6a7ea23aa358"
      },
      "execution_count": 24,
      "outputs": [
        {
          "output_type": "execute_result",
          "data": {
            "text/plain": [
              "'\\nEste es un comentario\\nde varias líneas.\\n'"
            ],
            "application/vnd.google.colaboratory.intrinsic+json": {
              "type": "string"
            }
          },
          "metadata": {},
          "execution_count": 24
        }
      ]
    },
    {
      "cell_type": "code",
      "source": [],
      "metadata": {
        "id": "1hOioXT429jz"
      },
      "execution_count": 24,
      "outputs": []
    },
    {
      "cell_type": "markdown",
      "source": [
        "# Encabezado de nivel 1\n",
        "## Encabezado de nivel 2\n",
        "### Encabezado de nivel 3\n"
      ],
      "metadata": {
        "id": "MY3DU1tN3A26"
      }
    },
    {
      "cell_type": "markdown",
      "source": [
        "**Texto en negritas**"
      ],
      "metadata": {
        "id": "8Wl5iNBM3Cyy"
      }
    },
    {
      "cell_type": "markdown",
      "source": [
        "*Texto en cursiva*"
      ],
      "metadata": {
        "id": "TmBFjWrl3GKy"
      }
    },
    {
      "cell_type": "markdown",
      "source": [
        "***Texto en negritas y cursiva***"
      ],
      "metadata": {
        "id": "HsfU29nD4b0Z"
      }
    },
    {
      "cell_type": "markdown",
      "source": [
        "* Elemento 1\n",
        "* Elemento 2\n",
        "* Elemento 3"
      ],
      "metadata": {
        "id": "8rfHW5K53KzS"
      }
    },
    {
      "cell_type": "markdown",
      "source": [
        "1. Elemento 1\n",
        "2. Elemento 2\n",
        "3. Elemento 3"
      ],
      "metadata": {
        "id": "2HrOvimc4ZEK"
      }
    },
    {
      "cell_type": "markdown",
      "source": [
        "[Página de Alura](https://www.aluracursos.com/)"
      ],
      "metadata": {
        "id": "EM_97xyL3NBK"
      }
    },
    {
      "cell_type": "markdown",
      "source": [
        "Existen algunos tipos de nomes que **no** podemos definir para las variables:\n",
        "\n",
        "- **Nombres que comiencen con números**\n",
        "  - Ejemplos: `10_notas`, `2_nombre_casa`, etc.\n",
        "- **Palabras separadas por espacio**\n",
        "  - Ejemplos: `Nombre escuela`, `notas estudiantes`, etc.\n",
        "- **Nombres de funciones de Python**\n",
        "  - Ejemplos: `print`, `type`, etc."
      ],
      "metadata": {
        "id": "om2N0jHKAzwL"
      }
    },
    {
      "cell_type": "markdown",
      "source": [
        "> Las letras mayúsculas y minúsculas generarán diferentes variables. La variable `edad` es diferente de `Edad` que a su vez es diferente de `EDAD`:\n",
        "``` Python\n",
        "edad = 1\n",
        "Edad = 2\n",
        "EDAD = 3\n",
        "_edad = 4\n",
        "_edad_ = 5\n",
        "print(edad, Edad, EDAD, _edad, _edad_)\n",
        "1 2 3 4 5\n",
        "```"
      ],
      "metadata": {
        "id": "A19vY2GVMujB"
      }
    },
    {
      "cell_type": "markdown",
      "source": [
        "## Tipos de variables\n",
        "\n",
        "Cada variable contiene una clase específica con respecto al tipo de objeto al cual esta hace referencia. Estas clases serán diferentes de acuerdo con el tipo de dato que le sea atribuido a una variable.\n",
        "\n",
        "Para conocer la clase de cada elemento usamos la función [`type()`](https://docs.python.org/3/library/functions.html#type)"
      ],
      "metadata": {
        "id": "UqhzuBhBHsps"
      }
    },
    {
      "cell_type": "code",
      "source": [
        "edad = 5"
      ],
      "metadata": {
        "id": "J5a9t73A_-PX"
      },
      "execution_count": 25,
      "outputs": []
    },
    {
      "cell_type": "code",
      "source": [
        "type(edad)"
      ],
      "metadata": {
        "id": "rqmO1ew-_-So",
        "colab": {
          "base_uri": "https://localhost:8080/"
        },
        "outputId": "9829111a-ee52-4a5b-cfe1-d05ec050d65b"
      },
      "execution_count": 26,
      "outputs": [
        {
          "output_type": "execute_result",
          "data": {
            "text/plain": [
              "int"
            ]
          },
          "metadata": {},
          "execution_count": 26
        }
      ]
    },
    {
      "cell_type": "code",
      "source": [
        "promedio=(9.5)"
      ],
      "metadata": {
        "id": "xkrPMkeY_-cP"
      },
      "execution_count": 27,
      "outputs": []
    },
    {
      "cell_type": "code",
      "source": [
        "type(promedio)"
      ],
      "metadata": {
        "colab": {
          "base_uri": "https://localhost:8080/"
        },
        "id": "uXx2HTRn4_sK",
        "outputId": "58348ade-bcc6-4465-9c55-3f23374a5872"
      },
      "execution_count": 28,
      "outputs": [
        {
          "output_type": "execute_result",
          "data": {
            "text/plain": [
              "float"
            ]
          },
          "metadata": {},
          "execution_count": 28
        }
      ]
    },
    {
      "cell_type": "code",
      "source": [
        "nombre=('fran')\n",
        "type(nombre)"
      ],
      "metadata": {
        "colab": {
          "base_uri": "https://localhost:8080/"
        },
        "id": "g3TQjsm45IBx",
        "outputId": "11a76ac8-be25-4559-e2d8-148fbc06915f"
      },
      "execution_count": 29,
      "outputs": [
        {
          "output_type": "execute_result",
          "data": {
            "text/plain": [
              "str"
            ]
          },
          "metadata": {},
          "execution_count": 29
        }
      ]
    },
    {
      "cell_type": "code",
      "source": [
        "v = True\n",
        "type(v)"
      ],
      "metadata": {
        "colab": {
          "base_uri": "https://localhost:8080/"
        },
        "id": "hxYUBtWr5PlS",
        "outputId": "821b7651-f9c5-45ff-8472-39cb7b0627a9"
      },
      "execution_count": 30,
      "outputs": [
        {
          "output_type": "execute_result",
          "data": {
            "text/plain": [
              "bool"
            ]
          },
          "metadata": {},
          "execution_count": 30
        }
      ]
    },
    {
      "cell_type": "markdown",
      "source": [
        "En un conjunto de datos escolares podemos tener varios tipos de informaciones. Supongamos que tenemos acceso a la ficha de datos del alumno *Penélope Camacho*, cómo transformamos este nombre en variables de Python?\n",
        "\n",
        "#### Ficha:\n",
        "\n",
        "- Nombre: Penélope Camacho\n",
        "- Edad: 11 años\n",
        "- Promedio del semestre: 9,75\n",
        "- Situación de aprobación: Verdadera (aprobado)"
      ],
      "metadata": {
        "id": "O-FxDumfWu0C"
      }
    },
    {
      "cell_type": "code",
      "source": [
        "nombre_estudiante = 'Penélope Camacho'"
      ],
      "metadata": {
        "id": "FabQ7jQf_8Xt"
      },
      "execution_count": 31,
      "outputs": []
    },
    {
      "cell_type": "code",
      "source": [
        "edad_estudiante = 11\n"
      ],
      "metadata": {
        "id": "IZLQnZUj_8bd"
      },
      "execution_count": 32,
      "outputs": []
    },
    {
      "cell_type": "code",
      "source": [
        "promedio_estudiante = 9.75"
      ],
      "metadata": {
        "id": "VqWDIyS26QU5"
      },
      "execution_count": 33,
      "outputs": []
    },
    {
      "cell_type": "code",
      "source": [
        "aprobado = True"
      ],
      "metadata": {
        "id": "ITthvNlr6QDp"
      },
      "execution_count": 34,
      "outputs": []
    },
    {
      "cell_type": "code",
      "source": [
        "print(nombre_estudiante,edad_estudiante,promedio_estudiante,aprobado  )"
      ],
      "metadata": {
        "colab": {
          "base_uri": "https://localhost:8080/"
        },
        "id": "i_rZjeSD6dvR",
        "outputId": "ecfcf731-2d93-4a56-8c4e-1eb77aaee38c"
      },
      "execution_count": 35,
      "outputs": [
        {
          "output_type": "stream",
          "name": "stdout",
          "text": [
            "Penélope Camacho 11 9.75 True\n"
          ]
        }
      ]
    },
    {
      "cell_type": "code",
      "source": [
        "print(type (nombre_estudiante),type (edad_estudiante),type(promedio_estudiante),type (aprobado)  )"
      ],
      "metadata": {
        "colab": {
          "base_uri": "https://localhost:8080/"
        },
        "id": "Oj7a2s3_7Agx",
        "outputId": "c5f9b76c-fe35-41fb-bcb7-ad1d111e89da"
      },
      "execution_count": 36,
      "outputs": [
        {
          "output_type": "stream",
          "name": "stdout",
          "text": [
            "<class 'str'> <class 'int'> <class 'float'> <class 'bool'>\n"
          ]
        }
      ]
    },
    {
      "cell_type": "markdown",
      "source": [
        "## Variables numéricas\n",
        "\n",
        "Entre los tipos de datos numéricos vamos a enfocarnos en los tipos `entero` y `float`."
      ],
      "metadata": {
        "id": "KFq_8Sxf-OG0"
      }
    },
    {
      "cell_type": "markdown",
      "source": [
        "Tenemos una tabla de información sobre los diversos cargos, cantidad de personas empleadas y el salario correspondiente:\n",
        "\n",
        "|Cargo | Cantidad | Salario|\n",
        "|---|---|---|\n",
        "|Vigilante | 5 | 300 |\n",
        "|Docente | 16| 500|\n",
        "|Coordinador| 2 |600|\n",
        "\n",
        "Necesitamos trabajar con estos datos para obtener:\n",
        "\n",
        "- La cantidad total de empleados;\n",
        "- La diferencia entre el salario más bajo y más alto; y\n",
        "- El promedio ponderado de los salarios de los empleados de la escuela."
      ],
      "metadata": {
        "id": "8_HYUbkVYdQY"
      }
    },
    {
      "cell_type": "code",
      "source": [
        "c_vigilante = 5\n",
        "s_vigilante = 300\n",
        "\n",
        "c_docente = 16\n",
        "s_docente = 500\n",
        "\n",
        "c_coordinador = 2\n",
        "s_coordinador = 600"
      ],
      "metadata": {
        "id": "F_X-wxdm_5Ys"
      },
      "execution_count": 37,
      "outputs": []
    },
    {
      "cell_type": "code",
      "source": [
        "total_empleados = c_vigilante + c_docente + c_coordinador\n",
        "total_empleados"
      ],
      "metadata": {
        "id": "gKmBbhII_5b9",
        "colab": {
          "base_uri": "https://localhost:8080/"
        },
        "outputId": "3a976dd4-54d8-4848-ebf4-342b8b518d27"
      },
      "execution_count": 38,
      "outputs": [
        {
          "output_type": "execute_result",
          "data": {
            "text/plain": [
              "23"
            ]
          },
          "metadata": {},
          "execution_count": 38
        }
      ]
    },
    {
      "cell_type": "code",
      "source": [
        "diferencia_salario = s_coordinador - s_vigilante\n",
        "diferencia_salario"
      ],
      "metadata": {
        "id": "fIugsxNy_53j",
        "colab": {
          "base_uri": "https://localhost:8080/"
        },
        "outputId": "3a7b7c7b-4b7e-449f-eacd-cb1e598ac8c9"
      },
      "execution_count": 39,
      "outputs": [
        {
          "output_type": "execute_result",
          "data": {
            "text/plain": [
              "300"
            ]
          },
          "metadata": {},
          "execution_count": 39
        }
      ]
    },
    {
      "cell_type": "code",
      "source": [
        "promedio_salarios = (c_vigilante * s_vigilante + c_docente * s_docente + c_coordinador * s_coordinador) / total_empleados"
      ],
      "metadata": {
        "id": "kkTDzZCU8Xgx"
      },
      "execution_count": 40,
      "outputs": []
    },
    {
      "cell_type": "code",
      "source": [
        "promedio_salarios\n",
        "type (promedio_salarios)"
      ],
      "metadata": {
        "colab": {
          "base_uri": "https://localhost:8080/"
        },
        "id": "OnFtIpvs-GpI",
        "outputId": "edfa97d8-0546-4fc1-cf36-769bd7274cd1"
      },
      "execution_count": 41,
      "outputs": [
        {
          "output_type": "execute_result",
          "data": {
            "text/plain": [
              "float"
            ]
          },
          "metadata": {},
          "execution_count": 41
        }
      ]
    },
    {
      "cell_type": "markdown",
      "source": [
        "## Strings"
      ],
      "metadata": {
        "id": "yQy7b0ZWoD-P"
      }
    },
    {
      "cell_type": "markdown",
      "source": [
        "Strings hace referencia a un conjunto de caracteres formando un texto.\n",
        "\n",
        "Podemos crear Strings cuando atribuimos un dato a una variable entre comillas sencillas (`'`) o comillas dobles (`\"`)."
      ],
      "metadata": {
        "id": "vlo2-DXusv3s"
      }
    },
    {
      "cell_type": "code",
      "source": [
        "t = 'alura'\n",
        "type(t)"
      ],
      "metadata": {
        "id": "ityEWqvh_2wK",
        "colab": {
          "base_uri": "https://localhost:8080/"
        },
        "outputId": "b459ab57-d200-40f6-9a07-bdf0b6c3f5cc"
      },
      "execution_count": 42,
      "outputs": [
        {
          "output_type": "execute_result",
          "data": {
            "text/plain": [
              "str"
            ]
          },
          "metadata": {},
          "execution_count": 42
        }
      ]
    },
    {
      "cell_type": "markdown",
      "source": [
        "Las variables textuales son objetos que poseen métodos que nos ayudan a formatear strings. Los métodos los podemos ejecutar al definir un objeto de acuerdo con la siguiente estructura:\n",
        "\n",
        "```\n",
        "objeto.metodo()\n",
        "```\n",
        "\n",
        "Existen métodos que no necesitan los `()`, siempre es una buena práctica verificar la documentación para cada caso."
      ],
      "metadata": {
        "id": "2e9UD_CCxqz_"
      }
    },
    {
      "cell_type": "markdown",
      "source": [
        "---\n",
        "**Situación:**\n",
        "\n",
        "Recibimos una variable con el nombre de una profesora de la escuela para añadirla a los registros. Sin embargo, necesitamos darle un tratamiento a este texto antes de insertarlo al sistema."
      ],
      "metadata": {
        "id": "p6aPmMGP4tf9"
      }
    },
    {
      "cell_type": "markdown",
      "source": [
        "El objetivo final es que el nombre aparezca de la siguiente forma:\n",
        "\n",
        "```\n",
        "'MICAELA DE LOS SANTOS'\n",
        "```"
      ],
      "metadata": {
        "id": "Dg2ZXSZOGzjC"
      }
    },
    {
      "cell_type": "markdown",
      "source": [
        "### [`str.upper()` ](https://docs.python.org/3/library/stdtypes.html#str.upper)\n",
        "Convierte una string a mayúsculas."
      ],
      "metadata": {
        "id": "iVTAD8q702eN"
      }
    },
    {
      "cell_type": "code",
      "source": [
        "texto.upper()\n"
      ],
      "metadata": {
        "id": "wMVshJrY_ZXh",
        "colab": {
          "base_uri": "https://localhost:8080/",
          "height": 35
        },
        "outputId": "f76795cf-421f-46bd-a244-e40a9bb52da6"
      },
      "execution_count": 46,
      "outputs": [
        {
          "output_type": "execute_result",
          "data": {
            "text/plain": [
              "'  MICAELA DE LOS SANYOS '"
            ],
            "application/vnd.google.colaboratory.intrinsic+json": {
              "type": "string"
            }
          },
          "metadata": {},
          "execution_count": 46
        }
      ]
    },
    {
      "cell_type": "markdown",
      "source": [
        "### [`str.lower()`](https://docs.python.org/3/library/stdtypes.html#str.lower)\n",
        "Convierte una string a minúsculas."
      ],
      "metadata": {
        "id": "hbDSBtMV1TpG"
      }
    },
    {
      "cell_type": "code",
      "source": [
        "texto.lower()"
      ],
      "metadata": {
        "id": "px3yEeNH_YK4",
        "colab": {
          "base_uri": "https://localhost:8080/",
          "height": 35
        },
        "outputId": "4babec94-b5b0-403a-de66-82ff0d8c3556"
      },
      "execution_count": 47,
      "outputs": [
        {
          "output_type": "execute_result",
          "data": {
            "text/plain": [
              "'  micaela de los sanyos '"
            ],
            "application/vnd.google.colaboratory.intrinsic+json": {
              "type": "string"
            }
          },
          "metadata": {},
          "execution_count": 47
        }
      ]
    },
    {
      "cell_type": "markdown",
      "source": [
        "### [`str.strip()`](https://docs.python.org/3/library/stdtypes.html#str.strip)\n",
        "Elimina los espacios en blanco al inicio y al final de una string."
      ],
      "metadata": {
        "id": "kz47eWM11gii"
      }
    },
    {
      "cell_type": "code",
      "source": [
        "texto.strip()"
      ],
      "metadata": {
        "id": "76dLgNa4_XAe",
        "colab": {
          "base_uri": "https://localhost:8080/",
          "height": 35
        },
        "outputId": "7049ff9c-4db4-4cbe-81ca-a41a04088adf"
      },
      "execution_count": null,
      "outputs": [
        {
          "output_type": "execute_result",
          "data": {
            "text/plain": [
              "'Micaela de los Sanyos'"
            ],
            "application/vnd.google.colaboratory.intrinsic+json": {
              "type": "string"
            }
          },
          "metadata": {},
          "execution_count": 74
        }
      ]
    },
    {
      "cell_type": "markdown",
      "source": [
        "### [`str.replace(antiguo, nuevo)`](https://docs.python.org/3/library/stdtypes.html#str.replace)\n",
        "\n",
        "Sustituye todas las ocurrencias del texto \"antiguo\" en la string por el  \"nuevo\"."
      ],
      "metadata": {
        "id": "m6notiyS1SCV"
      }
    },
    {
      "cell_type": "code",
      "source": [
        "texto.replace('y','t')"
      ],
      "metadata": {
        "id": "PNXAixtE_V6R",
        "colab": {
          "base_uri": "https://localhost:8080/",
          "height": 35
        },
        "outputId": "07cfd2c7-3318-4682-90eb-e4b5d460b128"
      },
      "execution_count": 48,
      "outputs": [
        {
          "output_type": "execute_result",
          "data": {
            "text/plain": [
              "'  Micaela de los Santos '"
            ],
            "application/vnd.google.colaboratory.intrinsic+json": {
              "type": "string"
            }
          },
          "metadata": {},
          "execution_count": 48
        }
      ]
    },
    {
      "cell_type": "code",
      "source": [
        "texto"
      ],
      "metadata": {
        "colab": {
          "base_uri": "https://localhost:8080/",
          "height": 35
        },
        "id": "KNtgAv5x_bEg",
        "outputId": "46326cb8-154f-48b7-c4b3-7f27b0b0e1ca"
      },
      "execution_count": 49,
      "outputs": [
        {
          "output_type": "execute_result",
          "data": {
            "text/plain": [
              "'  Micaela de los Sanyos '"
            ],
            "application/vnd.google.colaboratory.intrinsic+json": {
              "type": "string"
            }
          },
          "metadata": {},
          "execution_count": 49
        }
      ]
    },
    {
      "cell_type": "code",
      "source": [
        "id(texto)"
      ],
      "metadata": {
        "colab": {
          "base_uri": "https://localhost:8080/"
        },
        "id": "0EGtNAmh_gdp",
        "outputId": "d3cf67fe-8486-4eef-9f4d-42880e732ca4"
      },
      "execution_count": 50,
      "outputs": [
        {
          "output_type": "execute_result",
          "data": {
            "text/plain": [
              "139956342121664"
            ]
          },
          "metadata": {},
          "execution_count": 50
        }
      ]
    },
    {
      "cell_type": "markdown",
      "source": [
        "### Observaciones\n",
        "\n",
        "1. Los métodos devuelven una **tranformación**, no son ejecutados directamente sobre la variable donde está almacenado el texto.\n",
        "\n",
        "2. Adicionalmente, podemos acumular la ejecución de los métodos."
      ],
      "metadata": {
        "id": "zukvEjhG2Rcn"
      }
    },
    {
      "cell_type": "code",
      "source": [
        "texto = '  Micaela de los Sanyos '\n",
        "id(texto)"
      ],
      "metadata": {
        "id": "icDWtYTjBO0n",
        "colab": {
          "base_uri": "https://localhost:8080/"
        },
        "outputId": "4e7eadee-bf84-41a1-bded-1fe59bb544bd"
      },
      "execution_count": 45,
      "outputs": [
        {
          "output_type": "execute_result",
          "data": {
            "text/plain": [
              "139956342121664"
            ]
          },
          "metadata": {},
          "execution_count": 45
        }
      ]
    },
    {
      "cell_type": "markdown",
      "source": [
        "Para que la transformación se pueda ejecutar debemos atribuir la salida de las transformaciones a las variables"
      ],
      "metadata": {
        "id": "1KbwfVut2h6I"
      }
    },
    {
      "cell_type": "code",
      "source": [
        "nuevo_texto = texto.strip (). replace('y','t'). upper()\n",
        "print(id(texto), id (nuevo_texto))\n",
        "print (nuevo_texto)"
      ],
      "metadata": {
        "id": "JjkBRklr_T5n",
        "colab": {
          "base_uri": "https://localhost:8080/"
        },
        "outputId": "b4cff989-8b98-4ab6-fc0a-2ce40a01532e"
      },
      "execution_count": 51,
      "outputs": [
        {
          "output_type": "stream",
          "name": "stdout",
          "text": [
            "139956342121664 139956342268640\n",
            "MICAELA DE LOS SANTOS\n"
          ]
        }
      ]
    },
    {
      "cell_type": "code",
      "source": [
        "texto = texto.strip (). replace('y','t'). upper()\n",
        "print(id(texto), id (nuevo_texto))\n",
        "print (nuevo_texto)"
      ],
      "metadata": {
        "id": "m1RvLGZZ_SP3",
        "colab": {
          "base_uri": "https://localhost:8080/"
        },
        "outputId": "7ea2d9a4-de34-40b7-c064-4c53f2a12047"
      },
      "execution_count": 52,
      "outputs": [
        {
          "output_type": "stream",
          "name": "stdout",
          "text": [
            "139956342261760 139956342268640\n",
            "MICAELA DE LOS SANTOS\n"
          ]
        }
      ]
    },
    {
      "cell_type": "code",
      "source": [
        "2**3"
      ],
      "metadata": {
        "id": "XVoGDWnzDESv",
        "outputId": "db25242d-4d59-444b-e062-b3cca408d67b",
        "colab": {
          "base_uri": "https://localhost:8080/"
        }
      },
      "execution_count": 53,
      "outputs": [
        {
          "output_type": "execute_result",
          "data": {
            "text/plain": [
              "8"
            ]
          },
          "metadata": {},
          "execution_count": 53
        }
      ]
    },
    {
      "cell_type": "code",
      "source": [
        "operador = 2\n",
        "potencia = 3\n",
        "operador ** potencia"
      ],
      "metadata": {
        "id": "PvMZojDnDGSX",
        "outputId": "56059930-db3b-4eec-f682-7f46fff7ae7f",
        "colab": {
          "base_uri": "https://localhost:8080/"
        }
      },
      "execution_count": 54,
      "outputs": [
        {
          "output_type": "execute_result",
          "data": {
            "text/plain": [
              "8"
            ]
          },
          "metadata": {},
          "execution_count": 54
        }
      ]
    },
    {
      "cell_type": "code",
      "source": [
        "7%3"
      ],
      "metadata": {
        "id": "eKFhbxoVDGLI",
        "outputId": "bd51bb9c-ecab-4742-d37f-6903b6643cfd",
        "colab": {
          "base_uri": "https://localhost:8080/"
        }
      },
      "execution_count": 55,
      "outputs": [
        {
          "output_type": "execute_result",
          "data": {
            "text/plain": [
              "1"
            ]
          },
          "metadata": {},
          "execution_count": 55
        }
      ]
    },
    {
      "cell_type": "code",
      "source": [
        "dividendo = 7\n",
        "divisor = 3\n",
        "dividendo % divisor"
      ],
      "metadata": {
        "id": "i9wq6FpaDGDv",
        "outputId": "b5d00f61-a49e-4da5-87eb-444b2d1472a0",
        "colab": {
          "base_uri": "https://localhost:8080/"
        }
      },
      "execution_count": 56,
      "outputs": [
        {
          "output_type": "execute_result",
          "data": {
            "text/plain": [
              "1"
            ]
          },
          "metadata": {},
          "execution_count": 56
        }
      ]
    },
    {
      "cell_type": "code",
      "source": [
        "7 // 3"
      ],
      "metadata": {
        "id": "oVkouTqUDO5f",
        "outputId": "5e9366a8-eb96-4377-bd64-6aa983e139b6",
        "colab": {
          "base_uri": "https://localhost:8080/"
        }
      },
      "execution_count": 57,
      "outputs": [
        {
          "output_type": "execute_result",
          "data": {
            "text/plain": [
              "2"
            ]
          },
          "metadata": {},
          "execution_count": 57
        }
      ]
    },
    {
      "cell_type": "code",
      "source": [
        "numerador = 7\n",
        "denominador = 3\n",
        "numerador // denominador"
      ],
      "metadata": {
        "id": "cbgxrvkgDOx3",
        "outputId": "e6ee3491-e431-4c73-b977-4f05646f4918",
        "colab": {
          "base_uri": "https://localhost:8080/"
        }
      },
      "execution_count": 58,
      "outputs": [
        {
          "output_type": "execute_result",
          "data": {
            "text/plain": [
              "2"
            ]
          },
          "metadata": {},
          "execution_count": 58
        }
      ]
    },
    {
      "cell_type": "markdown",
      "source": [
        "## Capturando datos\n",
        "\n",
        "En algunas aplicaciones necesitamos capturar los valores del usuario de nuestro proyecto. En python, logramos capturar los datos del usuario a través del comando [`input()`](https://docs.python.org/3/library/functions.html#input).\n",
        "\n",
        "Para ejecutar la captura debemos atribuir el resultado de esta función a una variable."
      ],
      "metadata": {
        "id": "0h9Fh5G9kHCa"
      }
    },
    {
      "cell_type": "code",
      "source": [
        "nombre = input(\"escribe tu nombre: \")"
      ],
      "metadata": {
        "id": "zbH_9i3q_PdY",
        "colab": {
          "base_uri": "https://localhost:8080/"
        },
        "outputId": "a3a82110-b85e-45a5-89a0-0d599b705fbc"
      },
      "execution_count": 59,
      "outputs": [
        {
          "name": "stdout",
          "output_type": "stream",
          "text": [
            "escribe tu nombre: Fran\n"
          ]
        }
      ]
    },
    {
      "cell_type": "code",
      "source": [
        "type(nombre)"
      ],
      "metadata": {
        "id": "JZy1Q9Tl_PgL",
        "colab": {
          "base_uri": "https://localhost:8080/"
        },
        "outputId": "bcc7de7e-6497-407e-cb1d-e957f8cd7e62"
      },
      "execution_count": 60,
      "outputs": [
        {
          "output_type": "execute_result",
          "data": {
            "text/plain": [
              "str"
            ]
          },
          "metadata": {},
          "execution_count": 60
        }
      ]
    },
    {
      "cell_type": "markdown",
      "source": [
        "La salida de este comando siempre será una *string*. Esto quiere decir que aunque capturemos un valor de variable numérica, este será de tipo string.\n",
        "\n",
        "Entonces, será necesario **convertir el resultado cuando no se desea utilizar el valor como tipo string**."
      ],
      "metadata": {
        "id": "7z7hcLCk_aCY"
      }
    },
    {
      "cell_type": "markdown",
      "source": [
        "Existen funciones para la conversión de valores:\n",
        "\n",
        "- Enteros: [`int(dato_para_conversion)`](https://docs.python.org/3/library/functions.html#int)\n",
        "- Coma flotante: [`float(dato_para_conversion)`](https://docs.python.org/3/library/functions.html#float)\n",
        "- String: [`str(dato_para_conversion)`](https://docs.python.org/3/library/functions.html#func-str)\n",
        "- Booleano: [`bool(dato_para_conversion)`](https://docs.python.org/3/library/functions.html#bool)"
      ],
      "metadata": {
        "id": "TOlegATj1Jfp"
      }
    },
    {
      "cell_type": "code",
      "source": [
        "ano_admision = int(input(\"escribe tu año de admisión: \"))"
      ],
      "metadata": {
        "id": "M2ueeH6l_NMe",
        "colab": {
          "base_uri": "https://localhost:8080/"
        },
        "outputId": "16921180-41ba-413c-dd80-09b0124469cb"
      },
      "execution_count": 61,
      "outputs": [
        {
          "name": "stdout",
          "output_type": "stream",
          "text": [
            "escribe tu año de admisión: 2026\n"
          ]
        }
      ]
    },
    {
      "cell_type": "code",
      "source": [
        "type(ano_admision)"
      ],
      "metadata": {
        "id": "xfWwuViK_NUn",
        "colab": {
          "base_uri": "https://localhost:8080/"
        },
        "outputId": "8fa3f1c8-bb85-45ad-c418-fc63370fbc08"
      },
      "execution_count": 62,
      "outputs": [
        {
          "output_type": "execute_result",
          "data": {
            "text/plain": [
              "int"
            ]
          },
          "metadata": {},
          "execution_count": 62
        }
      ]
    },
    {
      "cell_type": "code",
      "source": [
        "nota_admision =float(input(\"escribe tu nota de admisión: \"))"
      ],
      "metadata": {
        "id": "N3jaVQUZEpiH",
        "outputId": "1924d861-edef-4f03-fdc6-6608c51d85a3",
        "colab": {
          "base_uri": "https://localhost:8080/"
        }
      },
      "execution_count": 63,
      "outputs": [
        {
          "name": "stdout",
          "output_type": "stream",
          "text": [
            "escribe tu nota de admisión: 9.5\n"
          ]
        }
      ]
    },
    {
      "cell_type": "code",
      "source": [
        "ano_salida = float(input(\"escribe tu año de salida: \"))"
      ],
      "metadata": {
        "id": "uFCHDyew_NZm",
        "colab": {
          "base_uri": "https://localhost:8080/"
        },
        "outputId": "3d05f26f-2d4d-4a8c-9caa-dc742ac9955c"
      },
      "execution_count": 64,
      "outputs": [
        {
          "name": "stdout",
          "output_type": "stream",
          "text": [
            "escribe tu año de salida: 2030\n"
          ]
        }
      ]
    },
    {
      "cell_type": "code",
      "source": [
        "type(ano_salida)"
      ],
      "metadata": {
        "id": "Na9FeCeWESnn",
        "outputId": "49a99d53-0a2f-4332-c4b3-099af7ffa3a0",
        "colab": {
          "base_uri": "https://localhost:8080/"
        }
      },
      "execution_count": 65,
      "outputs": [
        {
          "output_type": "execute_result",
          "data": {
            "text/plain": [
              "float"
            ]
          },
          "metadata": {},
          "execution_count": 65
        }
      ]
    },
    {
      "cell_type": "code",
      "source": [
        "ano_admision + ano_salida"
      ],
      "metadata": {
        "id": "Ux4TkiZ-EXNf",
        "outputId": "a6398155-5db8-42a4-ffc4-11ad6116f142",
        "colab": {
          "base_uri": "https://localhost:8080/"
        }
      },
      "execution_count": 66,
      "outputs": [
        {
          "output_type": "execute_result",
          "data": {
            "text/plain": [
              "4056.0"
            ]
          },
          "metadata": {},
          "execution_count": 66
        }
      ]
    },
    {
      "cell_type": "markdown",
      "source": [
        "Trataremos de representar mejor ahora el resultado de la transformación que obtuvimos. Nosotros podemos formatear y presentar nuestro resultado mezclando strings con valores no textuales.\n",
        "\n",
        "Para ello utilizamos la estructura de formatación `f` con strings."
      ],
      "metadata": {
        "id": "yNI2-XTbB3aS"
      }
    },
    {
      "cell_type": "code",
      "source": [
        "print(f'\\tel ano de admision fue: {ano_admision} \\n\\tla nota de admision fue: {nota_admision} ')"
      ],
      "metadata": {
        "id": "keJjA5N9_K5i",
        "colab": {
          "base_uri": "https://localhost:8080/"
        },
        "outputId": "c90587c9-6655-452a-a110-dcff978d4b3d"
      },
      "execution_count": 67,
      "outputs": [
        {
          "output_type": "stream",
          "name": "stdout",
          "text": [
            "\tel ano de admision fue: 2026 \n",
            "\tla nota de admision fue: 9.5 \n"
          ]
        }
      ]
    },
    {
      "cell_type": "code",
      "source": [
        "chr(64)"
      ],
      "metadata": {
        "id": "6-j7kvJUFzOn",
        "outputId": "f09e9771-4c47-4b08-ec3c-d81b32cccbcc",
        "colab": {
          "base_uri": "https://localhost:8080/",
          "height": 35
        }
      },
      "execution_count": 68,
      "outputs": [
        {
          "output_type": "execute_result",
          "data": {
            "text/plain": [
              "'@'"
            ],
            "application/vnd.google.colaboratory.intrinsic+json": {
              "type": "string"
            }
          },
          "metadata": {},
          "execution_count": 68
        }
      ]
    },
    {
      "cell_type": "code",
      "source": [
        "chr(72) + chr(111) +  chr(108) + chr(97)"
      ],
      "metadata": {
        "id": "9uyT39ZgF6H2",
        "outputId": "7d4ea6b7-c58e-450e-d0ae-8062f6734c00",
        "colab": {
          "base_uri": "https://localhost:8080/",
          "height": 35
        }
      },
      "execution_count": 69,
      "outputs": [
        {
          "output_type": "execute_result",
          "data": {
            "text/plain": [
              "'Hola'"
            ],
            "application/vnd.google.colaboratory.intrinsic+json": {
              "type": "string"
            }
          },
          "metadata": {},
          "execution_count": 69
        }
      ]
    },
    {
      "cell_type": "code",
      "source": [
        "nombre = \"Ana María\"\n",
        "edad = 17\n",
        "print(f\"El nombre de la alumna es {nombre} y su edad es {edad} años.\")"
      ],
      "metadata": {
        "id": "on_7F7YjGCo2",
        "outputId": "10095e7c-241d-4493-a4e0-a277b4e251bf",
        "colab": {
          "base_uri": "https://localhost:8080/"
        }
      },
      "execution_count": 70,
      "outputs": [
        {
          "output_type": "stream",
          "name": "stdout",
          "text": [
            "El nombre de la alumna es Ana María y su edad es 17 años.\n"
          ]
        }
      ]
    },
    {
      "cell_type": "markdown",
      "source": [
        "![imagen_2025-07-09_013231297.png](data:image/png;base64,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)"
      ],
      "metadata": {
        "id": "d0PaXhUWGaAG"
      }
    },
    {
      "cell_type": "markdown",
      "source": [
        "###De esta manera, para insertar una variable, puedes agregar el operador en la cadena en el punto deseado. Luego del final de la cadena, agrega nuevamente el %, especificando la variable entre paréntesis. Podemos ver esta estructura en el ejemplo siguiente:"
      ],
      "metadata": {
        "id": "FL8pDNZGhC3U"
      }
    },
    {
      "cell_type": "code",
      "source": [
        "nombre_alumno = 'Penélope Camacho'\n",
        "print('Nombre del alumno: %s' %(nombre_alumno))"
      ],
      "metadata": {
        "id": "vXfwcx0YGLU2",
        "outputId": "5b74f052-f897-483a-8936-752a93ac03f4",
        "colab": {
          "base_uri": "https://localhost:8080/"
        }
      },
      "execution_count": 4,
      "outputs": [
        {
          "output_type": "stream",
          "name": "stdout",
          "text": [
            "Nombre del alumno: Penélope Camacho\n"
          ]
        }
      ]
    },
    {
      "cell_type": "markdown",
      "source": [
        "###Si tienes más de una variable, debes ordenarlas según su aparición en el texto y separarlas por comas. Por ejemplo:"
      ],
      "metadata": {
        "id": "626ZVZsPhJJd"
      }
    },
    {
      "cell_type": "code",
      "source": [
        "nombre_alumno = 'Penélope Camacho'\n",
        "edad_alumno = 11\n",
        "media_alumno = 9.95\n",
        "print('Nombre del alumno es %s, tiene %d años y su media es %f.' %(nombre_alumno, edad_alumno, media_alumno))"
      ],
      "metadata": {
        "id": "fo7SiVuUGsE2",
        "outputId": "f7fcee97-f38e-492b-8869-cbdb68a99222",
        "colab": {
          "base_uri": "https://localhost:8080/"
        }
      },
      "execution_count": 3,
      "outputs": [
        {
          "output_type": "stream",
          "name": "stdout",
          "text": [
            "Nombre del alumno es Penélope Camacho, tiene 11 años y su media es 9.950000.\n"
          ]
        }
      ]
    },
    {
      "cell_type": "markdown",
      "source": [
        "###Cuando trabajamos con números de coma flotante (float), podemos determinar la cantidad de decimales después del punto utilizando la sintaxis %.xf, donde x es el número de decimales deseados. Utilizando las mismas variables del ejemplo anterior, el código con %.xf se vería así:"
      ],
      "metadata": {
        "id": "58Qwa-wzhMrP"
      }
    },
    {
      "cell_type": "code",
      "source": [
        "print('Nombre del alumno es %s, tiene %d años y su media es %.2f.' %(nombre_alumno, edad_alumno, media_alumno))"
      ],
      "metadata": {
        "id": "ZgAfWnUKhPBu",
        "outputId": "effa7a19-9510-4aac-ca74-13ebf558bbe6",
        "colab": {
          "base_uri": "https://localhost:8080/"
        }
      },
      "execution_count": 72,
      "outputs": [
        {
          "output_type": "stream",
          "name": "stdout",
          "text": [
            "Nombre del alumno es Penélope Camacho, tiene 11 años y su media es 9.95.\n"
          ]
        }
      ]
    },
    {
      "cell_type": "markdown",
      "source": [
        "###Un detalle importante es que los operadores de formateo de cadena con % no funcionan directamente con valores booleanos. Una forma de manejarlo es convirtiendo el valor booleano en una cadena antes de utilizarlo en el formateo con la función str(). Por ejemplo:"
      ],
      "metadata": {
        "id": "BqoO7jpsiGj-"
      }
    },
    {
      "cell_type": "code",
      "source": [
        "x = True\n",
        "print(\"Valor de x: %s\" % str(x))"
      ],
      "metadata": {
        "id": "GsepGvngiKC-",
        "outputId": "6acbf4f5-eee9-44c2-a2e9-2d505f02f1ec",
        "colab": {
          "base_uri": "https://localhost:8080/"
        }
      },
      "execution_count": 73,
      "outputs": [
        {
          "output_type": "stream",
          "name": "stdout",
          "text": [
            "Valor de x: True\n"
          ]
        }
      ]
    },
    {
      "cell_type": "markdown",
      "source": [
        "###Método .format():\n",
        "\n",
        "También es posible utilizar el método .format() para formatear cadenas. Es más flexible y permite pasar las variables directamente dentro de la cadena, sin necesidad de operadores %. Los marcadores son simplemente {}. Por ejemplo:"
      ],
      "metadata": {
        "id": "lZEd1OANiNn3"
      }
    },
    {
      "cell_type": "code",
      "source": [
        "nombre_alumno = 'Penélope Camacho'\n",
        "print('Nombre del alumno: {}'.format(nombre_alumno))"
      ],
      "metadata": {
        "id": "aOoX2dSIiS9o",
        "outputId": "e383cc00-7d08-42d9-de56-ee4022ceb90d",
        "colab": {
          "base_uri": "https://localhost:8080/"
        }
      },
      "execution_count": 74,
      "outputs": [
        {
          "output_type": "stream",
          "name": "stdout",
          "text": [
            "Nombre del alumno: Penélope Camacho\n"
          ]
        }
      ]
    },
    {
      "cell_type": "code",
      "source": [
        "nombre_alumno = 'Fabricio Daniel'\n",
        "edad_alumno = 15\n",
        "media_alumno = 9.95\n",
        "print('Nombre del alumno es {}, tiene {} años y su media es {}.' .format(nombre_alumno, edad_alumno, media_alumno))"
      ],
      "metadata": {
        "id": "PReQGgvCiWiZ",
        "outputId": "8d74f201-2dd9-4300-8f01-7b5e0e464d8b",
        "colab": {
          "base_uri": "https://localhost:8080/"
        }
      },
      "execution_count": 75,
      "outputs": [
        {
          "output_type": "stream",
          "name": "stdout",
          "text": [
            "Nombre del alumno es Fabricio Daniel, tiene 15 años y su media es 9.95.\n"
          ]
        }
      ]
    },
    {
      "cell_type": "code",
      "source": [
        "print(\"Estudiar es un esfuerzo constante,\\nEs como cultivar una planta,\\nNecesitamos dedicación y paciencia,\\nPara ver madurar el fruto.\")"
      ],
      "metadata": {
        "id": "EcId46VPieV6",
        "outputId": "26e8d288-130f-4164-a9a9-0c08f3b5645c",
        "colab": {
          "base_uri": "https://localhost:8080/"
        }
      },
      "execution_count": 76,
      "outputs": [
        {
          "output_type": "stream",
          "name": "stdout",
          "text": [
            "Estudiar es un esfuerzo constante,\n",
            "Es como cultivar una planta,\n",
            "Necesitamos dedicación y paciencia,\n",
            "Para ver madurar el fruto.\n"
          ]
        }
      ]
    },
    {
      "cell_type": "code",
      "source": [
        "print('Cantidad\\tCalidad\\n5 muestras\\tAlta\\n3 muestras\\tBaja')"
      ],
      "metadata": {
        "id": "o2XNW4P9iiUy",
        "outputId": "ce267eb1-d21d-459f-e07c-9cba203f5721",
        "colab": {
          "base_uri": "https://localhost:8080/"
        }
      },
      "execution_count": 77,
      "outputs": [
        {
          "output_type": "stream",
          "name": "stdout",
          "text": [
            "Cantidad\tCalidad\n",
            "5 muestras\tAlta\n",
            "3 muestras\tBaja\n"
          ]
        }
      ]
    },
    {
      "cell_type": "markdown",
      "source": [
        "###\\\\ se usa para imprimir una sola barra invertida. Si no se utiliza una doble barra invertida, el código podría generar un error o un resultado inesperado, ya que Python considera \\ como un carácter especial. Usamos esta sintaxis para garantizar que no ocurran errores. Ejemplo:"
      ],
      "metadata": {
        "id": "7NKalRdziqa7"
      }
    },
    {
      "cell_type": "code",
      "source": [
        "print(\"Ruta del archivo: C:\\\\archivos\\\\documento.csv\")"
      ],
      "metadata": {
        "id": "XyT7Fgh8isNE",
        "outputId": "aa9a245e-073e-4926-ab8e-4b031215e518",
        "colab": {
          "base_uri": "https://localhost:8080/"
        }
      },
      "execution_count": 78,
      "outputs": [
        {
          "output_type": "stream",
          "name": "stdout",
          "text": [
            "Ruta del archivo: C:\\archivos\\documento.csv\n"
          ]
        }
      ]
    },
    {
      "cell_type": "markdown",
      "source": [
        "###\\\" se utiliza para imprimir comillas dobles cuando estamos trabajando con una cadena creada con comillas dobles \" en el interior. Sin embargo, esto no es necesario si la cadena se crea con comillas simples '. Ejemplo:"
      ],
      "metadata": {
        "id": "o59affOtivD0"
      }
    },
    {
      "cell_type": "markdown",
      "source": [
        "\\t es el carácter de tabulación y se utiliza para agregar un espacio de tabulación en el texto. Ejemplo:"
      ],
      "metadata": {
        "id": "4o0PeW_Mig0y"
      }
    },
    {
      "cell_type": "code",
      "source": [
        "print(\"Una vez oí: \\\"Los frutos del conocimiento son los más dulces y duraderos de todos.\\\"\")"
      ],
      "metadata": {
        "id": "RpyPAc4jiydM",
        "outputId": "ca6ac5ad-7d81-484d-f782-7f20d2db140e",
        "colab": {
          "base_uri": "https://localhost:8080/"
        }
      },
      "execution_count": 79,
      "outputs": [
        {
          "output_type": "stream",
          "name": "stdout",
          "text": [
            "Una vez oí: \"Los frutos del conocimiento son los más dulces y duraderos de todos.\"\n"
          ]
        }
      ]
    },
    {
      "cell_type": "markdown",
      "source": [
        "### DIAGONAL INVERTIDA' se utiliza para imprimir comillas simples cuando estamos trabajando con una cadena creada con comillas simples '. Si la cadena se crea con comillas dobles \", esto no es necesario. Ejemplo:"
      ],
      "metadata": {
        "id": "6lS6jZdBi1EF"
      }
    },
    {
      "cell_type": "code",
      "source": [
        "print('Mi profesora una vez dijo: \\'Estudiar es la clave del éxito.\\'')"
      ],
      "metadata": {
        "id": "EnL1SwRAjF9Y",
        "outputId": "07a0f447-4b8c-4218-a327-3e716b75a9c3",
        "colab": {
          "base_uri": "https://localhost:8080/"
        }
      },
      "execution_count": 80,
      "outputs": [
        {
          "output_type": "stream",
          "name": "stdout",
          "text": [
            "Mi profesora una vez dijo: 'Estudiar es la clave del éxito.'\n"
          ]
        }
      ]
    },
    {
      "cell_type": "markdown",
      "source": [
        "###Nota que con .format(), no tienes el problema de los decimales de coma flotante. Tampoco tienes este problema con las f-strings.\n",
        "\n",
        "En resumen, cada uno de estos métodos tiene sus ventajas y desventajas. Se recomienda utilizar f-strings, ya que son más legibles y fáciles de usar. Sin embargo, cada desarrollador puede elegir el método que le parezca más apropiado.\n",
        "\n",
        "Caracteres Especiales:\n",
        "\n",
        "Además de la formateo de inserción de variables en una cadena, también existen caracteres especiales. Se utilizan para representar acciones especiales o caracteres que no se pueden escribir directamente, como el “Enter” y la tabulación. A continuación, presentamos algunos de ellos. Intenta replicar todos los ejemplos y observa el resultado final.\n",
        "\n",
        "\\n es el carácter de nueva línea y se usa para saltar una línea en el texto (similar a la función \"Enter\"). Ejemplo:"
      ],
      "metadata": {
        "id": "zs7JcnJyibqF"
      }
    },
    {
      "cell_type": "markdown",
      "source": [
        "# Estructuras condicionales"
      ],
      "metadata": {
        "id": "NwRaiHHHhhyl"
      }
    },
    {
      "cell_type": "code",
      "source": [],
      "metadata": {
        "id": "pa4gLncu-mvU"
      },
      "execution_count": null,
      "outputs": []
    },
    {
      "cell_type": "code",
      "source": [],
      "metadata": {
        "id": "_cWRmDiE-m4p"
      },
      "execution_count": null,
      "outputs": []
    },
    {
      "cell_type": "markdown",
      "source": [
        "## `IF` y `ELSE`\n",
        "\n",
        "Los comandos `if` y `else` son dos estructuras condicionales. El comando `if` ejecutará el bloque de comandos en caso de que la condición citada sea  **verdadera**. El comando `else` ejecutará el bloque de comandos en el caso de que la condicional de `if` sea **falsa**."
      ],
      "metadata": {
        "id": "qXZqg9aYEhAh"
      }
    },
    {
      "cell_type": "markdown",
      "source": [
        "El comando `if` es una palabra clave en Python que significa \"si\". Este se emplea para conformar la estructura condicional, que te permite verificar si una determinada condición es verdadera o falsa e, inmediatamente después, ejecute un bloque de código específico dependiendo del resultado de la verificación. La sintaxis para usar el comando `if` es:\n",
        "\n",
        "\n",
        "\n",
        "```\n",
        "if condicion:\n",
        "    # Realiza algo\n",
        "```\n",
        "\n"
      ],
      "metadata": {
        "id": "EIhlqHXd2Gil"
      }
    },
    {
      "cell_type": "code",
      "source": [],
      "metadata": {
        "id": "S2S6XAFz-czM"
      },
      "execution_count": null,
      "outputs": []
    },
    {
      "cell_type": "code",
      "source": [],
      "metadata": {
        "id": "YHkwMMyY-c1r"
      },
      "execution_count": null,
      "outputs": []
    },
    {
      "cell_type": "markdown",
      "source": [
        "Ya el comando `else` en Python se usa en junción con la palabra clave `if` para formar una estructura condicional. la sintaxis para usar el `else` es:\n",
        "\n",
        "```\n",
        "if condicion:\n",
        "  # codigo en caso de que sea verdad\n",
        "else:\n",
        "  # codigo en caso de que sea falso\n",
        "```\n",
        "\n",
        "el comando `else` se ejecuta cuando la condición verificada por el `if` es evaluada como `False`."
      ],
      "metadata": {
        "id": "27RW2v_sIKct"
      }
    },
    {
      "cell_type": "code",
      "source": [],
      "metadata": {
        "id": "ZTfNJd_f-aOq"
      },
      "execution_count": null,
      "outputs": []
    },
    {
      "cell_type": "code",
      "source": [],
      "metadata": {
        "id": "LPOb5MkV-btq"
      },
      "execution_count": null,
      "outputs": []
    },
    {
      "cell_type": "markdown",
      "source": [
        "---\n",
        "**Situación:**\n",
        "\n",
        "Recibiremos el promedio de la nota de los estudiantes y necesitamos de un algoritmo que ejecute el análisis y determine si el estudiante fue **Aprobado** o **Reprobado**, mostrando un mensaje del resultado. Para ser aprobado, el promedio necesita ser igual o superior a 7.0."
      ],
      "metadata": {
        "id": "BqORg85XX-Nl"
      }
    },
    {
      "cell_type": "code",
      "source": [],
      "metadata": {
        "id": "UukCN4AQ-YYW"
      },
      "execution_count": null,
      "outputs": []
    },
    {
      "cell_type": "code",
      "source": [],
      "metadata": {
        "id": "X0o8FW1H-YkA"
      },
      "execution_count": null,
      "outputs": []
    },
    {
      "cell_type": "markdown",
      "source": [
        "Ahora, nuestra institución educativa estableció que las personas que tengan el promedio entre 5.0 y 7.0 pueden participar del curso de **Recuperación** durante las vacaciones para lograr aprobar.\n",
        "\n",
        "Entonces podemos apoyarnos en un conjunto de `if`s para poder estructurar esta nueva condición."
      ],
      "metadata": {
        "id": "bD9O17HB6LUo"
      }
    },
    {
      "cell_type": "code",
      "source": [],
      "metadata": {
        "id": "G9cJ5O9--W52"
      },
      "execution_count": null,
      "outputs": []
    },
    {
      "cell_type": "code",
      "source": [],
      "metadata": {
        "id": "iU-pjoJt-W89"
      },
      "execution_count": null,
      "outputs": []
    },
    {
      "cell_type": "markdown",
      "source": [
        "Observa que en casos con 3 situaciones como este necesitamos definir bien nuestras condiciones. Pues, si realizamos una condición con `else` al final, este irá a considerar solamente la condición `if` inmediatamente anterior para generar la salida en caso de que el resultado de su operación lógica sea **falso** dando como resultado, dos o más ejecuciones.\n",
        "\n",
        "Por ejemplo:"
      ],
      "metadata": {
        "id": "D5e2mByjvycO"
      }
    },
    {
      "cell_type": "code",
      "source": [],
      "metadata": {
        "id": "C21JmOuK-VU8"
      },
      "execution_count": null,
      "outputs": []
    },
    {
      "cell_type": "code",
      "source": [],
      "metadata": {
        "id": "bHiVgnPs-Vlv"
      },
      "execution_count": null,
      "outputs": []
    },
    {
      "cell_type": "markdown",
      "source": [
        "## `ELIF`\n",
        "\n",
        "El comando `elif` es una palabra clave en Python que significa \"si no, si\" y lo podemos considerar una *contracción* entre `else` e `if`. Se utiliza en conjunto con la palabra clave `if` para formar una estructura condicional en cadena."
      ],
      "metadata": {
        "id": "04T5g-7h4zWx"
      }
    },
    {
      "cell_type": "markdown",
      "source": [
        "la sintaxis para utilizar el comando `elif` es:\n",
        "\n",
        "```\n",
        "if condicion1:\n",
        "    # Realiza algo\n",
        "elif condicion2:\n",
        "    # Realiza otra cosa\n",
        "elif condicion3:\n",
        "    # Realiza otra cosa\n",
        "else:\n",
        "    # Realiza algo diferente\n",
        "```\n",
        "\n",
        "El comando `elif` permite que puedas verificar varias condiciones en cadena, economizando espacio en tu código. Si la primera condición se evalúa como `False`, el interpretador de Python evaluará la próxima condición con el `elif`. Ello continuará hasta que una condición sea evaluada como `True` o hasta que el `else` sea alcazado. Si ninguna de las condiciones es evaluada como `True`, la ejecución del código del comando `else` será iniciada."
      ],
      "metadata": {
        "id": "rNBHr5mm1Lm6"
      }
    },
    {
      "cell_type": "markdown",
      "source": [
        "Vamos a emplear el mismo caso anterior:"
      ],
      "metadata": {
        "id": "MVoykFbB4bd4"
      }
    },
    {
      "cell_type": "code",
      "source": [],
      "metadata": {
        "id": "QFamB78s-TW_"
      },
      "execution_count": null,
      "outputs": []
    },
    {
      "cell_type": "code",
      "source": [],
      "metadata": {
        "id": "nuScbnHF-TfK"
      },
      "execution_count": null,
      "outputs": []
    },
    {
      "cell_type": "markdown",
      "source": [
        "## Operadores\n",
        "\n",
        "Durante la construcción de comandos a veces necesitamos de una elaboración mayor de la expresión condicional, necesitando que algunos operadores lógicos se encuentren integrados."
      ],
      "metadata": {
        "id": "Tf1wSOem6iwZ"
      }
    },
    {
      "cell_type": "markdown",
      "source": [
        "### `AND`, `OR`, `NOT`\n",
        "\n",
        "Los operadores lógicos `and`, `or` y `not` son usados para combinar expresiones lógicas en Python. Ellos son usados frecuentemente en conjunto con el comando `if` para crear estructuras condicionales más complejas.\n"
      ],
      "metadata": {
        "id": "GFIZnRWXGPWO"
      }
    },
    {
      "cell_type": "markdown",
      "source": [
        "- `AND` es usado para verificar si dos condiciones son verdaderas. La expresión lógica¹ `x and y` se evalúa como `True` tan solo si **ambas condiciones `x` y `y` son verdaderas**, y como `False` en caso contrario.\n",
        "\n",
        "- `OR` es usado para verificar si al menos una de las condiciones es verdadera. La expresión lógica `x or y` se evalúa como `True` **si al menos una de las condiciones `x` o `y` es verdadera**, y como `False` si ambas condiciones son falsas.\n",
        "\n",
        "- `NOT` es usado para **negar una condición**. La expresión lógica `not x` es evaluada como `True` si la condición x es falsa, y como `False` si la condición x es verdadera.\n",
        "\n",
        "¹ Una expresión lógica es una declaración que puede ser evaluada como verdadera o falsa. Ella se compone por operandos lógicos² y por operadores lógicos³, que son usados ​​para combinar varias expresiones lógicas en una única expresión.\n",
        "\n",
        "² Los operandos lógicos son los elementos que son comparados o evaluados en una expresión lógica. Ellos son generalmente valores verdaderos o falsos, pero también pueden ser expresiones lógicas más complejas. En Python, los operandos lógicos son los valores `True` y `False`.\n",
        "\n",
        "³ Los operadores lógicos son ls símbolos o palabras clave que son usados ​​para combinar varias expresiones lógicas en una única expresión. En Python, los operadores lógicos son `and`, `or` y `not`, bien como las palabras clave `if`, `elif` e `else`."
      ],
      "metadata": {
        "id": "Z_dgAoHXJbzB"
      }
    },
    {
      "cell_type": "markdown",
      "source": [
        "> Operadores lógicos más comunes\n",
        "\n",
        "|a|b|AND|OR|NOT|\n",
        "|-|-|-|-|-|\n",
        "|0|0|0|0|1\n",
        "|0|1|0|1|-\n",
        "|1|0|0|1|-\n",
        "|1|1|1|1|0\n"
      ],
      "metadata": {
        "id": "2E5aUogf-49u"
      }
    },
    {
      "cell_type": "code",
      "source": [],
      "metadata": {
        "id": "DFKmpvmS-Pa6"
      },
      "execution_count": null,
      "outputs": []
    },
    {
      "cell_type": "code",
      "source": [],
      "metadata": {
        "id": "W5BIrpOD-PeI"
      },
      "execution_count": null,
      "outputs": []
    },
    {
      "cell_type": "code",
      "source": [],
      "metadata": {
        "id": "fpDhYxq4-PiM"
      },
      "execution_count": null,
      "outputs": []
    },
    {
      "cell_type": "markdown",
      "source": [
        "### `IN`\n",
        "\n",
        "Es usado para verificar si un elemento está presente en una lista, tupla u otra colección de conjunto. La expresión `x in y` se evalúa como `True` si el elemento `x` esta presente na variávelen la variable de conjunto `y`, y como `False` en caso contrario."
      ],
      "metadata": {
        "id": "w7EXG1dhWtja"
      }
    },
    {
      "cell_type": "markdown",
      "source": [
        "Podemos verificarlo con variables de texto.\n",
        "\n",
        "---\n",
        "\n",
        "**Situación:**\n",
        "\n",
        "En la escuela nos entregaron una lista con nombres de estudiantes que fueron aprobados según el promedio del semestre, pero es necesario verificar si algunos nombres están en esa lista para confirmar que los datos estén correctos.\n",
        "\n",
        "La lista distribuida puede ser observada a continuación:\n",
        "\n",
        "```\n",
        "lista = 'Juan Pérez, María González, Pedro Rodríguez, Ana López, Carlos Martínez,\n",
        "    Laura Sánchez, José García, Elena Fernández, Luis Morales, Carmen Torres,\n",
        "    David Ruiz, Isabel Ramírez, Javier Díaz, Sara Herrera, Miguel Castro,\n",
        "    Patricia Ortega, Francisco Vargas, Marta Jiménez, Manuel Medina, Rosa Molina,\n",
        "    Alejandro Silva, Silvia Ruiz, Andrés Torres, Natalia Soto, Diego Guerrero,\n",
        "    Paula Ríos, Ricardo Navarro, Alicia Cordero, Carlos Vidal, Lorena Gómez'\n",
        "```\n",
        "\n",
        "Los nombres que necesitas verificar son los siguientes:\n",
        "\n",
        "```\n",
        "nombre_1 = 'Miguel Castro'\n",
        "nombre_2 = 'Marcelo Noguera'\n",
        "```"
      ],
      "metadata": {
        "id": "enJNp6JenQbq"
      }
    },
    {
      "cell_type": "code",
      "source": [],
      "metadata": {
        "id": "gPPN9BCT-Mki"
      },
      "execution_count": null,
      "outputs": []
    },
    {
      "cell_type": "code",
      "source": [],
      "metadata": {
        "id": "GINbG3Fa-Mnb"
      },
      "execution_count": null,
      "outputs": []
    },
    {
      "cell_type": "code",
      "source": [],
      "metadata": {
        "id": "hk-RhNRT-Mp7"
      },
      "execution_count": null,
      "outputs": []
    },
    {
      "cell_type": "markdown",
      "source": [
        "# Estructuras de repetición"
      ],
      "metadata": {
        "id": "aL1vJPewvwvz"
      }
    },
    {
      "cell_type": "markdown",
      "source": [
        "Cuando tenemos que ejecutar un mismo bloque de comandos durante varias ocasiones no es nada práctico hacerlo a mano.\n",
        "\n",
        "**Situación**: Nos fue solicitado obtener e imprimir el promedio de 2 notas de **3 estudantes**:"
      ],
      "metadata": {
        "id": "VcPfCa8d-84t"
      }
    },
    {
      "cell_type": "code",
      "source": [],
      "metadata": {
        "id": "xcx21IGT9qA0"
      },
      "execution_count": null,
      "outputs": []
    },
    {
      "cell_type": "code",
      "source": [],
      "metadata": {
        "id": "Wtbiy9Ay9rGJ"
      },
      "execution_count": null,
      "outputs": []
    },
    {
      "cell_type": "code",
      "source": [],
      "metadata": {
        "id": "Yfyz4anY9rIr"
      },
      "execution_count": null,
      "outputs": []
    },
    {
      "cell_type": "markdown",
      "source": [
        "Ahora imaginemos una situación en que no son tan solo 3 estudiantes, sino 100 estudiantes. No sería nada interesante repetir el mismo código 100 veces, sino **ejecutar el mismo código 100 veces**.\n",
        "\n",
        "¡Esta estructura la logramos construir con lazos de repetición!"
      ],
      "metadata": {
        "id": "9puIuvUbFSFX"
      }
    },
    {
      "cell_type": "markdown",
      "source": [
        "## `WHILE`"
      ],
      "metadata": {
        "id": "uLO9-aE4-wx8"
      }
    },
    {
      "cell_type": "markdown",
      "source": [
        "El lazo `while` es una estructura de control de repetición en Python que permite ejecutar un bloque de código repetidamente mientras que una determinada condición sea verdadera. Su estructura es:\n",
        "\n",
        "\n",
        "\n",
        "```\n",
        "while condicion:\n",
        "    # bloque de codigo\n",
        "```\n",
        "\n",
        "Vamos a construir un ejemplo con un contador de 1 hasta 10.\n"
      ],
      "metadata": {
        "id": "rXZxDMiqHxm9"
      }
    },
    {
      "cell_type": "code",
      "source": [],
      "metadata": {
        "id": "Hd0ZSWxD9wCD"
      },
      "execution_count": null,
      "outputs": []
    },
    {
      "cell_type": "code",
      "source": [],
      "metadata": {
        "id": "miFHNqp29nOL"
      },
      "execution_count": null,
      "outputs": []
    },
    {
      "cell_type": "markdown",
      "source": [
        "Ahora vamos a colectar las notas y promedios de cada alumno dentro del lazo `while`. Haremos un ejemplo con 3 promedios."
      ],
      "metadata": {
        "id": "W4KZPBJuIrut"
      }
    },
    {
      "cell_type": "code",
      "source": [],
      "metadata": {
        "id": "9T5eCLFx9wk6"
      },
      "execution_count": null,
      "outputs": []
    },
    {
      "cell_type": "code",
      "source": [],
      "metadata": {
        "id": "P6E0_dW-9lZ9"
      },
      "execution_count": null,
      "outputs": []
    },
    {
      "cell_type": "markdown",
      "source": [
        "## `FOR`"
      ],
      "metadata": {
        "id": "WgAIaENMMfCP"
      }
    },
    {
      "cell_type": "markdown",
      "source": [
        "El lazo `for` es un tipo de estructura de control de flujo en Python que permite iterar sobre un conjunto de elementos. Su estructura es:\n",
        "\n",
        "\n",
        "\n",
        "```\n",
        "for elemento in conjunto:\n",
        "    # codigo a ser ejecutado para cada elemento\n",
        "```\n",
        "\n",
        "El lazo `for` itera sobre cada elemento del conjunto especificado y ejecuta el bloque de código dentro del lazo para cada elemento. Cuando el lazo llega al final del conjunto, este se interrumpe y el programa continúa la ejecución después del lazo.\n",
        "\n"
      ],
      "metadata": {
        "id": "HxrSZoRAMh-x"
      }
    },
    {
      "cell_type": "markdown",
      "source": [
        "El conjunto lo podemos generar con la función incorporada [`range()`](https://docs.python.org/3/library/functions.html#func-range). Se trata de una función capaz de generar una secuencia de números enteros. La estructura de esta función es:\n",
        "\n",
        "```\n",
        "range(inicio, fin, paso)\n",
        "```\n",
        "\n",
        "Según la documentación, `range()` genera una secuencia de números enteros a partir del valor del parámetro `inicio` hasta el valor del parámetro `fin`, de acuerdo con el valor del parámetro `paso`. Si `inicio` no es especificado, el valor por defecto es `0`. Si `paso` no es especificado, el valor por defecto es `1`.\n",
        "\n",
        "\n"
      ],
      "metadata": {
        "id": "6VgjyoQtPHBM"
      }
    },
    {
      "cell_type": "markdown",
      "source": [
        "Vamos a recrear el mismo contador `while` con el lazo `for`."
      ],
      "metadata": {
        "id": "ryn0hfdlUwC8"
      }
    },
    {
      "cell_type": "code",
      "source": [],
      "metadata": {
        "id": "KkL1wUIj9jL4"
      },
      "execution_count": null,
      "outputs": []
    },
    {
      "cell_type": "code",
      "source": [],
      "metadata": {
        "id": "uXIZnLSr9jOu"
      },
      "execution_count": null,
      "outputs": []
    },
    {
      "cell_type": "markdown",
      "source": [
        "# Estructuras de datos"
      ],
      "metadata": {
        "id": "8noP8OJ0Vhux"
      }
    },
    {
      "cell_type": "markdown",
      "source": [
        "Un conjunto de elementos es una colección de items, que son almacenados juntos de manera organizada. Algunos ejemplos de conjuntos de elementos en Python son las listas, los strings y los diccionarios."
      ],
      "metadata": {
        "id": "xpEUkefTu8fY"
      }
    },
    {
      "cell_type": "markdown",
      "source": [
        "## Listas"
      ],
      "metadata": {
        "id": "THSg4KYLwxIb"
      }
    },
    {
      "cell_type": "markdown",
      "source": [
        "Las listas pueden almacenar una colección de items en orden. Ellas son delimitadas por corchetes `[]` y sus elementos son separados por comas.\n",
        "\n",
        "Estas pueden almacenar cualquier tipo de items, incluyendo números, strings, objetos, otras listas, entre otros. También nos permiten almacenar items de tipos de datos diferentes juntos en una única lista."
      ],
      "metadata": {
        "id": "dzpsiqrOyJcK"
      }
    },
    {
      "cell_type": "code",
      "source": [
        "lista = ['Penélope Camacho',9.5,9.0,9.7,True]\n",
        "lista"
      ],
      "metadata": {
        "id": "DO3TBj7nAYeG",
        "colab": {
          "base_uri": "https://localhost:8080/"
        },
        "outputId": "fbee2eb5-265e-4b5b-badf-a0dd9331074b"
      },
      "execution_count": null,
      "outputs": [
        {
          "output_type": "execute_result",
          "data": {
            "text/plain": [
              "['Penélope Camacho', 9.5, 9.0, 9.7, True]"
            ]
          },
          "metadata": {},
          "execution_count": 62
        }
      ]
    },
    {
      "cell_type": "code",
      "source": [],
      "metadata": {
        "id": "DO2ubP9N9D_2"
      },
      "execution_count": null,
      "outputs": []
    },
    {
      "cell_type": "markdown",
      "source": [
        "Las listas son organizadas en Python porque **cada elemento de la lista tiene un índice que indica su posición al interior de la lista**. Los índices comienzan en 0 van hasta el tamaño de la lista menos 1."
      ],
      "metadata": {
        "id": "qUz3sJNl6LgK"
      }
    },
    {
      "cell_type": "markdown",
      "source": [
        "Tenemos entonces 5 elementos con índices que varían de 0 a 4, ordenadamente:\n",
        "\n",
        "```\n",
        "#             [0]           [1]   [2]   [3]    [4]\n",
        "lista = ['Penélope Camacho', 9.5 , 9.0 , 9.7 , True]\n",
        "```\n",
        "\n",
        "En Python tenemos también los índices **negativos** que se inician en el último elemento con el valor de `-1` y avanzan en el universo de los negativos hasta llegar al 1° elemento:\n",
        "\n",
        "```\n",
        "#             [-5]         [-4]  [-3]  [-2]   [-1]\n",
        "lista = ['Penélope Camacho', 9.5 , 9.0 , 9.7 , True]\n",
        "```\n",
        "\n",
        "Logramos seleccionar separadamente cada elemento a través de sus respectivos índices. Colocando el nombre de la lista y en seguida el índice que será seleccionado."
      ],
      "metadata": {
        "id": "rLf-Qg526hFD"
      }
    },
    {
      "cell_type": "code",
      "source": [],
      "metadata": {
        "id": "4hco1Zqy88Kw"
      },
      "execution_count": null,
      "outputs": []
    },
    {
      "cell_type": "code",
      "source": [],
      "metadata": {
        "id": "M8lH0I2288Ph"
      },
      "execution_count": null,
      "outputs": []
    },
    {
      "cell_type": "markdown",
      "source": [
        "Una forma más dinámica de trabajar item a item en una lista es utilizando un lazo `for` para leer un elemento a la vez."
      ],
      "metadata": {
        "id": "6TaE1ijmBTCd"
      }
    },
    {
      "cell_type": "code",
      "source": [],
      "metadata": {
        "id": "rBx4Yu1786Sy"
      },
      "execution_count": null,
      "outputs": []
    },
    {
      "cell_type": "markdown",
      "source": [
        "**Situación**: La nota `9.0` de Penélope necesita ser ajustada pues ganó 1 punto en su última nota por participación en clase. Entonces es necesario realizar un cambio en el índice `2` de `9.0` a `10.0`."
      ],
      "metadata": {
        "id": "Dh1_HnIVvucY"
      }
    },
    {
      "cell_type": "code",
      "source": [],
      "metadata": {
        "id": "bVPoZg668z3T"
      },
      "execution_count": null,
      "outputs": []
    },
    {
      "cell_type": "code",
      "source": [],
      "metadata": {
        "id": "Jo_PBQ0g8z7D"
      },
      "execution_count": null,
      "outputs": []
    },
    {
      "cell_type": "markdown",
      "source": [
        "También podemos calcular el promedio del estudiante a partir de los datos que tenemos."
      ],
      "metadata": {
        "id": "53XduzXkycAf"
      }
    },
    {
      "cell_type": "code",
      "source": [],
      "metadata": {
        "id": "SIH61Rrb8yv4"
      },
      "execution_count": null,
      "outputs": []
    },
    {
      "cell_type": "markdown",
      "source": [
        "## Manipulación de listas\n",
        "\n",
        "Las listas son muy útiles en Python porque nos permiten almacenar y acceder a una colección de items de manera organizada y rápida. Estas también ofrecen muchos métodos útiles para manipular los itens almacenados, como adicionar, remover, clasificar y buscar elementos."
      ],
      "metadata": {
        "id": "d-iYr10-y4qw"
      }
    },
    {
      "cell_type": "markdown",
      "source": [
        "#### Cantidad de elementos\n",
        "\n",
        "Usamos la función [`len()`](https://docs.python.org/3/library/functions.html#len) para descubrir la cantidad de elementos de un conjunto."
      ],
      "metadata": {
        "id": "ZLqx9A97XVB_"
      }
    },
    {
      "cell_type": "code",
      "source": [],
      "metadata": {
        "id": "6q1Tmm7P8wQf"
      },
      "execution_count": null,
      "outputs": []
    },
    {
      "cell_type": "markdown",
      "source": [
        "#### Partición\n",
        "\n",
        "La partición de listas por indexación en Python es una técnica muy útil para seleccionar un subconjunto de elementos de una lista. Esta se realiza usando la sintaxis `lista[inicio:fin]`, donde `inicio` es el índice del primer elemento que será incluído en la partición `fin` es el índice del primer elemento que será excluído de la partición."
      ],
      "metadata": {
        "id": "Z5tpstlHJss3"
      }
    },
    {
      "cell_type": "code",
      "source": [],
      "metadata": {
        "id": "NctvJTTU8uV9"
      },
      "execution_count": null,
      "outputs": []
    },
    {
      "cell_type": "code",
      "source": [],
      "metadata": {
        "id": "bQZUwldj8uY2"
      },
      "execution_count": null,
      "outputs": []
    },
    {
      "cell_type": "markdown",
      "source": [
        "#### [`append()`](https://docs.python.org/3/tutorial/datastructures.html#:~:text=of%20list%20objects%3A-,list.append(x),-Add%20an%20item)\n",
        "\n",
        "Añade un elemento al final de la lista."
      ],
      "metadata": {
        "id": "O0RRyabkRzZC"
      }
    },
    {
      "cell_type": "code",
      "source": [],
      "metadata": {
        "id": "_Q0oODwa8spC"
      },
      "execution_count": null,
      "outputs": []
    },
    {
      "cell_type": "code",
      "source": [],
      "metadata": {
        "id": "RM894r2M8sse"
      },
      "execution_count": null,
      "outputs": []
    },
    {
      "cell_type": "markdown",
      "source": [
        "#### [`extend()`](https://docs.python.org/3/tutorial/datastructures.html#:~:text=list.extend(iterable))\n",
        "\n",
        "Añade varios elementos al final de la lista.\n",
        "\n",
        "Añadiremos las notas `[10.0,8.0,9.0]` En la lista de Penélope Camacho."
      ],
      "metadata": {
        "id": "uQV91XMsUOJD"
      }
    },
    {
      "cell_type": "code",
      "source": [],
      "metadata": {
        "id": "6Zk2MpMw8rQc"
      },
      "execution_count": null,
      "outputs": []
    },
    {
      "cell_type": "code",
      "source": [],
      "metadata": {
        "id": "NnoKkoWb8rTQ"
      },
      "execution_count": null,
      "outputs": []
    },
    {
      "cell_type": "markdown",
      "source": [
        "*A continuación te mostraremos lo que no puede realizarse con* `append`."
      ],
      "metadata": {
        "id": "IVJvkTwNUk6M"
      }
    },
    {
      "cell_type": "code",
      "source": [],
      "metadata": {
        "id": "u3Eub2ZL8pp3"
      },
      "execution_count": null,
      "outputs": []
    },
    {
      "cell_type": "code",
      "source": [],
      "metadata": {
        "id": "tsKK5Ne58pvN"
      },
      "execution_count": null,
      "outputs": []
    },
    {
      "cell_type": "markdown",
      "source": [
        "#### [`remove()`](https://docs.python.org/3/tutorial/datastructures.html#:~:text=append(x).-,list.remove(x),-Remove%20the%20first)\n",
        "\n",
        "Remueve un elemento específico de la lista."
      ],
      "metadata": {
        "id": "dPGM5gpyUX1z"
      }
    },
    {
      "cell_type": "code",
      "source": [],
      "metadata": {
        "id": "mmboODPc8nd5"
      },
      "execution_count": null,
      "outputs": []
    },
    {
      "cell_type": "code",
      "source": [],
      "metadata": {
        "id": "T_w6vVgV8nh_"
      },
      "execution_count": null,
      "outputs": []
    },
    {
      "cell_type": "markdown",
      "source": [
        "## Diccionario"
      ],
      "metadata": {
        "id": "Rc22Vc08YDZ2"
      }
    },
    {
      "cell_type": "markdown",
      "source": [
        "Los diccionarios son un tipo de estructura de datos que almacenan pares de *llave-valor*. Estos son delimitados por llaves `{}` y los pares *llave-valor* son separados por comas.\n",
        "\n",
        "```\n",
        "diccionario = {llave: valor}\n",
        "```\n",
        "\n",
        "La **llave** es un elemento único que identifica a un valor en el diccionario, mientras que el **valor** es el item que será almacenado para la llave. Las llaves y sus respectivos valores se pueden emplear para **cualquier tipo de dato**.\n",
        "\n",
        "Los diccionarios son útiles para almacenar y acceder a los datos de manera organizada y rápida. Se trata de un tipo de conjunto de elementos en Python, pues almacenan una colección de items."
      ],
      "metadata": {
        "id": "PJ-cCKPjeWxL"
      }
    },
    {
      "cell_type": "code",
      "source": [],
      "metadata": {
        "id": "NDHhzooE8ld5"
      },
      "execution_count": null,
      "outputs": []
    },
    {
      "cell_type": "code",
      "source": [],
      "metadata": {
        "id": "AVOzqzy-8lhh"
      },
      "execution_count": null,
      "outputs": []
    },
    {
      "cell_type": "markdown",
      "source": [
        "---\n",
        "**Situación:**\n",
        "\n",
        "Vamos a crear un conjunto de datos con las informaciones de matrícula de un estudiante. Los datos son los siguientes:\n",
        "\n",
        "- matrícula: 2000168933\n",
        "- día de registro: 25\n",
        "- mes de registro: 10\n",
        "- grupo: 2E"
      ],
      "metadata": {
        "id": "_JbQ3KMKfkXU"
      }
    },
    {
      "cell_type": "code",
      "source": [],
      "metadata": {
        "id": "0lfOu_c38jED"
      },
      "execution_count": null,
      "outputs": []
    },
    {
      "cell_type": "code",
      "source": [],
      "metadata": {
        "id": "XIuqpTTy8jHV"
      },
      "execution_count": null,
      "outputs": []
    },
    {
      "cell_type": "markdown",
      "source": [
        "Es posible sustituir los valores dentro de una llave. Por ejemplo, recibimos la información de que el grupo del estudiante que registramos cambio a `'2G'` y ahora necesitamos cambiar el valor de la llave `'grupo'`."
      ],
      "metadata": {
        "id": "8ex5pt2ykDd2"
      }
    },
    {
      "cell_type": "code",
      "source": [],
      "metadata": {
        "id": "kQGlp36b8fyP"
      },
      "execution_count": null,
      "outputs": []
    },
    {
      "cell_type": "code",
      "source": [],
      "metadata": {
        "id": "DnfH_qHi8f17"
      },
      "execution_count": null,
      "outputs": []
    },
    {
      "cell_type": "markdown",
      "source": [
        "También podemos añadir otros datos al diccionario. Vamos a añadir la información sobre la modalidad de estudio, nuestro estudiante estudiará inicialemente en la modalidad EAD.\n",
        "\n",
        "Definiremos una llave llamada `'modalidad'` con el valor `'EAD'`."
      ],
      "metadata": {
        "id": "wB0qRb56mQvv"
      }
    },
    {
      "cell_type": "code",
      "source": [],
      "metadata": {
        "id": "EeLYdlIm8d8a"
      },
      "execution_count": null,
      "outputs": []
    },
    {
      "cell_type": "code",
      "source": [],
      "metadata": {
        "id": "olDIavsm8d_o"
      },
      "execution_count": null,
      "outputs": []
    },
    {
      "cell_type": "markdown",
      "source": [
        "## Profundizando en diccionarios"
      ],
      "metadata": {
        "id": "LJ3o_inroxg_"
      }
    },
    {
      "cell_type": "markdown",
      "source": [
        "#### [`pop()`](https://python-reference.readthedocs.io/en/latest/docs/dict/pop.html)\n",
        "Remueve un item de un diccionario y lo representa en la salida."
      ],
      "metadata": {
        "id": "2N3GLlkSpBiu"
      }
    },
    {
      "cell_type": "code",
      "source": [],
      "metadata": {
        "id": "ZsSCZx6G8b-T"
      },
      "execution_count": null,
      "outputs": []
    },
    {
      "cell_type": "code",
      "source": [],
      "metadata": {
        "id": "7lQ8_jpi8cBR"
      },
      "execution_count": null,
      "outputs": []
    },
    {
      "cell_type": "markdown",
      "source": [
        "#### [`items()`](https://python-reference.readthedocs.io/en/latest/docs/dict/items.html)\n",
        "Retorna una lista de pares `llave-valor` del diccionario."
      ],
      "metadata": {
        "id": "sYZGvJJYrW_y"
      }
    },
    {
      "cell_type": "code",
      "source": [],
      "metadata": {
        "id": "ncdycLV08an7"
      },
      "execution_count": null,
      "outputs": []
    },
    {
      "cell_type": "markdown",
      "source": [
        "#### [`keys()`](https://python-reference.readthedocs.io/en/latest/docs/dict/keys.html)\n",
        "Retorna una lista de las llaves del diccionario."
      ],
      "metadata": {
        "id": "Lb0utNFGrZBY"
      }
    },
    {
      "cell_type": "code",
      "source": [],
      "metadata": {
        "id": "eZo0biaM8ZVs"
      },
      "execution_count": null,
      "outputs": []
    },
    {
      "cell_type": "markdown",
      "source": [
        "#### [`values()`](https://python-reference.readthedocs.io/en/latest/docs/dict/values.html)\n",
        "Retorna una lista de los valores del diccionario."
      ],
      "metadata": {
        "id": "qKyu3bf9rbtX"
      }
    },
    {
      "cell_type": "code",
      "source": [],
      "metadata": {
        "id": "-NxRT9C18Yvo"
      },
      "execution_count": null,
      "outputs": []
    },
    {
      "cell_type": "markdown",
      "source": [
        "### Lectura de valores con el lazo `for`"
      ],
      "metadata": {
        "id": "e3XVjR8Frp75"
      }
    },
    {
      "cell_type": "code",
      "source": [],
      "metadata": {
        "id": "NYcjU-Ip8Xan"
      },
      "execution_count": null,
      "outputs": []
    },
    {
      "cell_type": "code",
      "source": [],
      "metadata": {
        "id": "aAnpP1Wv8XfJ"
      },
      "execution_count": null,
      "outputs": []
    }
  ]
}